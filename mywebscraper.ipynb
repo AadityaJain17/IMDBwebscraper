{
  "nbformat": 4,
  "nbformat_minor": 0,
  "metadata": {
    "colab": {
      "name": "mywebscraper.ipynb",
      "provenance": []
    },
    "kernelspec": {
      "name": "python3",
      "display_name": "Python 3"
    },
    "language_info": {
      "name": "python"
    }
  },
  "cells": [
    {
      "cell_type": "code",
      "source": [
        "from bs4 import BeautifulSoup\n",
        "import requests, openpyxl"
      ],
      "metadata": {
        "id": "kBC79RY0BwE8"
      },
      "execution_count": 37,
      "outputs": []
    },
    {
      "cell_type": "code",
      "source": [
        "excel=openpyxl.Workbook()\n"
      ],
      "metadata": {
        "id": "PRJiUaBDCOHY"
      },
      "execution_count": 38,
      "outputs": []
    },
    {
      "cell_type": "code",
      "source": [
        "sheet=excel.active"
      ],
      "metadata": {
        "id": "Vw-WnZN_Cobf"
      },
      "execution_count": 39,
      "outputs": []
    },
    {
      "cell_type": "code",
      "source": [
        "sheet.title=\"Top Rated Movies on IMDB\""
      ],
      "metadata": {
        "id": "S-6p30ezCoXU"
      },
      "execution_count": 40,
      "outputs": []
    },
    {
      "cell_type": "code",
      "source": [
        "print(excel.sheetnames)"
      ],
      "metadata": {
        "colab": {
          "base_uri": "https://localhost:8080/"
        },
        "id": "msWyfs9nCoQj",
        "outputId": "ae985bd2-31db-4fbf-cb95-6ecf243a0d04"
      },
      "execution_count": 41,
      "outputs": [
        {
          "output_type": "stream",
          "name": "stdout",
          "text": [
            "['Top Rated Movies on IMDB']\n"
          ]
        }
      ]
    },
    {
      "cell_type": "code",
      "source": [
        "sheet.append([\"Rank\",\"Name\",\"Year\",\"Rating\"])"
      ],
      "metadata": {
        "id": "YVUhP0MsCoFX"
      },
      "execution_count": 42,
      "outputs": []
    },
    {
      "cell_type": "code",
      "source": [
        "source = requests.get('https://www.imdb.com/chart/top/')"
      ],
      "metadata": {
        "id": "q_ihgpLj99Da"
      },
      "execution_count": 43,
      "outputs": []
    },
    {
      "cell_type": "code",
      "source": [
        "source.raise_for_status()#if url is invalid"
      ],
      "metadata": {
        "id": "rnX4PfTc-JwZ"
      },
      "execution_count": 44,
      "outputs": []
    },
    {
      "cell_type": "code",
      "source": [
        "soup = BeautifulSoup(source.text,'html.parser')"
      ],
      "metadata": {
        "id": "dNjcP6Um-JpU"
      },
      "execution_count": 45,
      "outputs": []
    },
    {
      "cell_type": "code",
      "source": [
        "movies = soup.find('tbody',class_=\"lister-list\").find_all('tr')"
      ],
      "metadata": {
        "id": "ojBG-MhV-PCW"
      },
      "execution_count": 46,
      "outputs": []
    },
    {
      "cell_type": "code",
      "source": [
        "#print(len(movies))"
      ],
      "metadata": {
        "id": "tLLI0Tt2-9ge"
      },
      "execution_count": null,
      "outputs": []
    },
    {
      "cell_type": "code",
      "source": [
        "for movie in movies:\n",
        "  name = movie.find('td',class_=\"titleColumn\").a.text\n",
        "  rank = movie.find('td',class_=\"titleColumn\").get_text(strip=True).split('.')[0]#strips all spaces n newline characters and prints in single line\n",
        "  year = movie.find('td',class_=\"titleColumn\").span.text.strip('()')\n",
        "  rating = movie.find('td',class_=\"ratingColumn imdbRating\").strong.text\n",
        "  print(rank,name,year,rating)\n",
        "  sheet.append([rank,name,year,rating])"
      ],
      "metadata": {
        "id": "b3_zmMuy-_NJ"
      },
      "execution_count": null,
      "outputs": []
    },
    {
      "cell_type": "code",
      "source": [
        "excel.save(\"Imdb Movie Ratings.xlsx\")"
      ],
      "metadata": {
        "id": "oELDhppYAJgB"
      },
      "execution_count": 48,
      "outputs": []
    }
  ]
}